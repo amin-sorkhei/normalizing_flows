{
 "cells": [
  {
   "cell_type": "code",
   "execution_count": 115,
   "metadata": {},
   "outputs": [],
   "source": [
    "%load_ext autoreload\n",
    "%autoreload 2"
   ]
  },
  {
   "cell_type": "code",
   "execution_count": 117,
   "metadata": {},
   "outputs": [],
   "source": [
    "\n",
    "import matplotlib.pyplot as plt\n",
    "from torchvision import transforms\n",
    "import torchvision\n",
    "import torch\n",
    "import time"
   ]
  },
  {
   "cell_type": "code",
   "execution_count": 118,
   "metadata": {},
   "outputs": [],
   "source": [
    "device = torch.device(\"cpu\")"
   ]
  },
  {
   "cell_type": "code",
   "execution_count": 119,
   "metadata": {},
   "outputs": [],
   "source": [
    "torch.backends.cuda.matmul.allow_tf32 = True\n",
    "torch.backends.cudnn.allow_tf32 = True"
   ]
  },
  {
   "cell_type": "code",
   "execution_count": 124,
   "metadata": {},
   "outputs": [],
   "source": [
    "from utils import ImageDataset, ConvResNet, init_dataloader, channel_binary_mask, \\\n",
    "    checkerboard_binary_mask, AffineCouplingLayer, RealNVP, Scale, FinalScale, FlowBlock, save_plot\n",
    "import torch\n",
    "device = torch.device(device)"
   ]
  },
  {
   "cell_type": "code",
   "execution_count": 125,
   "metadata": {},
   "outputs": [],
   "source": [
    "batch_size = 128\n",
    "epochs = 100\n",
    "num_resnet_blocks = 16\n",
    "num_scales = 3\n",
    "num_step_of_flow = 3 # 3 * 6 affine layers\n",
    "sample_path = \"./bs_samples\"#f\"./plots_{num_scales}_scale_{num_step_of_flow * 6}_affines_resnet_{num_resnet_blocks}\""
   ]
  },
  {
   "cell_type": "code",
   "execution_count": 6,
   "metadata": {},
   "outputs": [
    {
     "name": "stdout",
     "output_type": "stream",
     "text": [
      "mkdir: invalid option -- 'f'\n",
      "Try 'mkdir --help' for more information.\n"
     ]
    }
   ],
   "source": [
    "! mkdir -f {sample_path}"
   ]
  },
  {
   "cell_type": "code",
   "execution_count": 7,
   "metadata": {},
   "outputs": [],
   "source": [
    "# celebA_train_dataset = torchvision.datasets.CelebA(root=\"/home/ext_amin_unity3d_com/real_nvp_data_celebA\",\n",
    "#                                                    split=\"train\",\n",
    "#                                                    download=True,\n",
    "#                                                    transform=transforms.Compose([transforms.ToTensor()])\n",
    "#                                                    )"
   ]
  },
  {
   "cell_type": "code",
   "execution_count": 8,
   "metadata": {},
   "outputs": [],
   "source": [
    "# celebA_train_dataloader = torch.utils.data.DataLoader(celebA_train_dataset, batch_size=64)"
   ]
  },
  {
   "cell_type": "code",
   "execution_count": 9,
   "metadata": {},
   "outputs": [],
   "source": [
    "lsun_train_dataset = ImageDataset(root_dir=\"/home/ext_amin_unity3d_com/real_nvp_data/train\")\n",
    "lsun_train_dataloader = init_dataloader(lsun_train_dataset, batch_size=batch_size)"
   ]
  },
  {
   "cell_type": "code",
   "execution_count": 10,
   "metadata": {},
   "outputs": [],
   "source": [
    "dataset = lsun_train_dataset\n",
    "dataloader = lsun_train_dataloader"
   ]
  },
  {
   "cell_type": "code",
   "execution_count": 11,
   "metadata": {},
   "outputs": [],
   "source": [
    "tmp_input = torch.rand(5, 3, 32, 32).to(device)\n",
    "tmp_input_split = torch.ones(5, 6, 16, 16).to(device)"
   ]
  },
  {
   "cell_type": "code",
   "execution_count": 12,
   "metadata": {},
   "outputs": [
    {
     "name": "stdout",
     "output_type": "stream",
     "text": [
      "tensor(577.3474, device='cuda:1')\n"
     ]
    }
   ],
   "source": [
    "scale = Scale(mask_orientation=0).to(device=device)\n",
    "forwarded_scale, _  = scale(tmp_input)\n",
    "reversed_scale = scale.reverse(forwarded_scale)\n",
    "print(torch.norm(tmp_input - reversed_scale))\n"
   ]
  },
  {
   "cell_type": "code",
   "execution_count": 13,
   "metadata": {},
   "outputs": [
    {
     "name": "stdout",
     "output_type": "stream",
     "text": [
      "tensor(0.0028, device='cuda:1')\n"
     ]
    }
   ],
   "source": [
    "final_scale = FinalScale().to(device)\n",
    "forwarded_fs, _ = final_scale(tmp_input_split)\n",
    "reversed_fs = final_scale.reverse(forwarded_fs)\n",
    "print(torch.norm(tmp_input_split - reversed_fs))"
   ]
  },
  {
   "cell_type": "code",
   "execution_count": 14,
   "metadata": {},
   "outputs": [],
   "source": [
    "realnvp = RealNVP(num_scales=num_scales,\n",
    "                  num_step_of_flow=num_step_of_flow,\n",
    "                  num_resnet_blocks=num_resnet_blocks).to(device)"
   ]
  },
  {
   "cell_type": "code",
   "execution_count": 15,
   "metadata": {},
   "outputs": [
    {
     "data": {
      "text/plain": [
       "tensor([[[[-6.7813e+05,  8.9277e+07, -9.7800e+06,  ..., -2.0831e+07,\n",
       "            8.1259e+06, -5.1307e+06],\n",
       "          [ 1.0568e+08,  2.6953e+08, -1.5340e+08,  ..., -1.3975e+07,\n",
       "            8.0875e+05, -7.9103e+06],\n",
       "          [ 1.2972e+08,  4.8134e+07,  1.6926e+07,  ...,  1.4176e+06,\n",
       "            3.3249e+06, -1.7071e+06],\n",
       "          ...,\n",
       "          [ 7.6660e+06, -1.4288e+07, -3.5109e+08,  ...,  1.8148e+07,\n",
       "            9.2358e+07, -2.1087e+08],\n",
       "          [ 5.5042e+07,  1.0592e+08,  8.0215e+06,  ...,  3.3598e+07,\n",
       "           -4.5550e+07,  1.0018e+08],\n",
       "          [ 4.3371e+06,  9.5335e+06,  7.6471e+07,  ...,  1.8575e+07,\n",
       "            2.6498e+07,  3.6078e+06]],\n",
       "\n",
       "         [[ 5.7802e+07, -7.8399e+06, -3.1689e+06,  ..., -4.2759e+07,\n",
       "           -5.5561e+07, -1.2844e+07],\n",
       "          [ 1.5452e+07,  6.7754e+06, -2.2489e+07,  ..., -1.2033e+06,\n",
       "            1.0841e+08,  1.7441e+06],\n",
       "          [ 3.1334e+07, -6.9085e+06,  8.0021e+07,  ...,  2.3641e+07,\n",
       "           -1.0032e+08, -2.3631e+08],\n",
       "          ...,\n",
       "          [-5.3119e+06,  1.7857e+06, -1.6130e+08,  ...,  7.6029e+07,\n",
       "           -8.2995e+07, -3.6129e+07],\n",
       "          [ 4.2328e+06,  1.9931e+06,  2.8927e+07,  ..., -7.6699e+06,\n",
       "           -3.0482e+07,  2.7185e+08],\n",
       "          [-2.7796e+06,  1.5272e+07, -2.5366e+07,  ..., -9.7286e+07,\n",
       "            1.9859e+07, -1.0186e+08]],\n",
       "\n",
       "         [[ 8.2601e+06,  1.6377e+07,  2.5350e+06,  ..., -8.4376e+06,\n",
       "           -1.0204e+07, -2.5554e+05],\n",
       "          [ 3.8110e+08,  1.4417e+08, -1.5259e+07,  ..., -7.1970e+06,\n",
       "            2.7178e+07, -1.4721e+07],\n",
       "          [-9.3532e+05, -6.8336e+07, -7.0909e+07,  ...,  9.8212e+07,\n",
       "           -4.9056e+06, -3.1950e+06],\n",
       "          ...,\n",
       "          [-1.6699e+07, -2.5034e+07,  5.3563e+06,  ...,  8.0472e+07,\n",
       "            4.1297e+08,  1.7016e+08],\n",
       "          [-4.6979e+07, -5.1340e+07,  8.4214e+08,  ...,  3.6996e+05,\n",
       "           -2.1686e+06,  1.5711e+06],\n",
       "          [-2.8942e+07, -9.7658e+06, -2.2071e+07,  ..., -2.5136e+07,\n",
       "           -5.9738e+06, -2.4778e+07]]],\n",
       "\n",
       "\n",
       "        [[[-2.1887e+07, -4.1988e+07, -2.3118e+08,  ..., -1.6036e+08,\n",
       "           -4.3137e+07,  2.9172e+08],\n",
       "          [ 1.1351e+07,  1.4013e+07,  3.1812e+08,  ...,  9.9234e+07,\n",
       "            7.1864e+07,  9.4280e+07],\n",
       "          [-1.9970e+07,  6.4864e+07,  6.8224e+07,  ..., -2.1288e+07,\n",
       "           -2.1803e+08, -3.6204e+07],\n",
       "          ...,\n",
       "          [-8.8924e+07,  3.8025e+07,  2.2891e+07,  ..., -4.8300e+07,\n",
       "            3.6723e+07, -7.0134e+06],\n",
       "          [-9.1732e+06,  8.8587e+06, -7.8816e+07,  ..., -3.6250e+08,\n",
       "           -1.3129e+08,  5.3673e+06],\n",
       "          [ 1.3055e+07,  1.1928e+07,  1.3504e+07,  ...,  2.1751e+06,\n",
       "            4.2801e+07,  1.8152e+07]],\n",
       "\n",
       "         [[-2.7013e+06, -1.1607e+08,  3.3252e+07,  ...,  5.8489e+07,\n",
       "            3.2042e+08, -3.7812e+07],\n",
       "          [ 7.4226e+06,  7.3850e+07,  2.9921e+05,  ...,  3.0618e+08,\n",
       "           -1.0286e+08,  2.0175e+07],\n",
       "          [-8.7022e+06,  2.3514e+07,  1.4722e+08,  ..., -4.3061e+07,\n",
       "           -8.7187e+06,  5.3256e+06],\n",
       "          ...,\n",
       "          [ 6.1627e+07,  1.1894e+08, -2.1484e+07,  ..., -1.2789e+06,\n",
       "            5.6162e+06,  5.7926e+06],\n",
       "          [ 4.1029e+06,  1.4682e+07,  3.6158e+07,  ...,  4.2046e+07,\n",
       "           -7.0984e+06,  2.4861e+05],\n",
       "          [ 3.8855e+06,  5.5471e+07,  1.2895e+06,  ...,  1.2290e+06,\n",
       "           -6.2570e+06,  2.3973e+06]],\n",
       "\n",
       "         [[ 1.8239e+07, -2.4281e+06, -9.9021e+07,  ...,  4.8762e+07,\n",
       "            7.1085e+08,  4.4426e+08],\n",
       "          [-7.8667e+07,  2.1234e+06, -4.2374e+07,  ..., -9.5588e+07,\n",
       "           -5.5510e+07,  1.5271e+06],\n",
       "          [ 4.3704e+07,  6.0299e+08, -8.9299e+06,  ...,  1.7897e+07,\n",
       "            6.8207e+06, -4.0356e+07],\n",
       "          ...,\n",
       "          [-8.1760e+05,  3.4647e+08, -4.1243e+07,  ..., -6.9429e+08,\n",
       "           -9.5524e+07,  1.1211e+07],\n",
       "          [ 8.0260e+06,  5.9600e+07,  6.8238e+07,  ...,  5.3386e+07,\n",
       "            2.3436e+08,  8.5502e+07],\n",
       "          [ 2.3329e+07, -6.8393e+06, -8.4411e+06,  ..., -3.8476e+07,\n",
       "           -1.2820e+07,  5.3234e+07]]],\n",
       "\n",
       "\n",
       "        [[[-3.3219e+07,  7.9528e+07, -3.5069e+07,  ..., -7.2427e+08,\n",
       "           -6.3903e+08,  1.9351e+08],\n",
       "          [-1.1301e+09,  1.2015e+07, -2.5303e+08,  ..., -4.8901e+07,\n",
       "           -6.8584e+08,  8.1128e+07],\n",
       "          [-1.3344e+07,  4.1355e+07, -5.7333e+08,  ...,  3.5786e+09,\n",
       "            1.1362e+08,  1.4563e+09],\n",
       "          ...,\n",
       "          [-5.3398e+06,  1.2918e+07, -1.4982e+08,  ..., -1.0106e+07,\n",
       "            5.0379e+07,  8.8225e+06],\n",
       "          [ 3.5120e+05, -3.5990e+06, -1.5810e+07,  ...,  4.5298e+06,\n",
       "           -9.2633e+06,  2.4144e+06],\n",
       "          [-3.1293e+06, -5.1464e+07, -3.2420e+06,  ..., -8.2736e+05,\n",
       "           -3.4009e+06, -5.7362e+07]],\n",
       "\n",
       "         [[-1.0776e+07,  2.4148e+07, -1.7257e+08,  ...,  5.8974e+07,\n",
       "            6.1109e+08,  1.2927e+08],\n",
       "          [-8.4022e+08, -1.6760e+09, -5.5746e+08,  ...,  1.8918e+09,\n",
       "            1.8127e+08,  7.4889e+07],\n",
       "          [-1.6667e+07,  4.2680e+08, -1.6750e+08,  ..., -2.3893e+08,\n",
       "            6.6153e+07, -8.7049e+07],\n",
       "          ...,\n",
       "          [ 6.2958e+07,  4.1870e+06,  2.0120e+08,  ...,  6.6757e+06,\n",
       "           -3.5751e+07,  8.8616e+06],\n",
       "          [-8.3010e+07, -6.7190e+07,  3.3119e+06,  ..., -1.2451e+06,\n",
       "           -2.8425e+06, -5.7147e+06],\n",
       "          [ 1.1640e+07, -4.7193e+05,  8.6530e+06,  ...,  1.5031e+07,\n",
       "            7.6332e+05, -7.6749e+05]],\n",
       "\n",
       "         [[ 8.8852e+06,  6.9825e+08, -7.0902e+06,  ...,  6.5493e+07,\n",
       "            3.5421e+07, -3.9800e+07],\n",
       "          [-1.1389e+08, -9.2725e+07, -6.0239e+07,  ...,  3.1885e+08,\n",
       "            8.7914e+08, -2.9861e+08],\n",
       "          [ 7.3552e+07, -7.7955e+08,  2.3222e+08,  ...,  2.8082e+08,\n",
       "            5.7201e+08,  1.0061e+08],\n",
       "          ...,\n",
       "          [ 3.3586e+07, -1.6728e+07, -2.6924e+07,  ..., -1.6669e+07,\n",
       "            3.6548e+05,  6.6979e+07],\n",
       "          [ 6.8563e+06,  3.2658e+06, -1.4578e+07,  ..., -8.5118e+07,\n",
       "           -1.1341e+07, -1.7744e+07],\n",
       "          [-4.6111e+07, -5.9353e+06,  4.7280e+07,  ...,  3.1994e+06,\n",
       "           -6.0713e+06,  1.0141e+07]]],\n",
       "\n",
       "\n",
       "        ...,\n",
       "\n",
       "\n",
       "        [[[-1.2388e+06, -8.2502e+06, -4.2992e+06,  ...,  4.1583e+06,\n",
       "            5.7967e+08,  5.1364e+08],\n",
       "          [-1.9372e+08,  4.6739e+07,  1.3899e+07,  ...,  2.2158e+08,\n",
       "           -1.6445e+09, -6.9498e+07],\n",
       "          [ 2.4630e+07,  2.9754e+07,  1.5947e+06,  ...,  9.1590e+08,\n",
       "           -4.3579e+08,  2.3730e+09],\n",
       "          ...,\n",
       "          [-2.5776e+07, -3.1762e+08, -3.7753e+09,  ...,  1.5796e+08,\n",
       "           -1.5420e+08, -1.1896e+08],\n",
       "          [ 2.5309e+06, -4.5481e+07, -8.5481e+08,  ...,  1.5863e+07,\n",
       "           -1.5895e+08, -1.2784e+07],\n",
       "          [-2.7414e+06,  2.1389e+06, -6.8779e+07,  ...,  1.5662e+06,\n",
       "            4.2418e+07,  3.8321e+06]],\n",
       "\n",
       "         [[ 1.4225e+07, -1.1659e+08, -9.8588e+06,  ..., -5.6595e+08,\n",
       "            3.9045e+07, -2.1212e+09],\n",
       "          [-1.1603e+08, -3.8788e+08, -8.4910e+06,  ..., -1.1846e+09,\n",
       "            1.4812e+09,  2.0888e+08],\n",
       "          [ 4.0540e+06,  2.1308e+08,  3.8039e+07,  ...,  1.7520e+08,\n",
       "           -1.6674e+07, -8.7087e+07],\n",
       "          ...,\n",
       "          [-3.7112e+08,  1.7926e+07, -2.5307e+09,  ..., -1.0307e+08,\n",
       "           -2.2514e+08, -7.8658e+06],\n",
       "          [-6.3344e+06, -2.0092e+08,  1.3230e+07,  ...,  1.2451e+07,\n",
       "           -5.9543e+06,  2.5250e+07],\n",
       "          [-2.4079e+07, -3.6024e+07,  7.7349e+08,  ...,  3.2805e+07,\n",
       "            2.4848e+07,  4.5774e+06]],\n",
       "\n",
       "         [[-8.8103e+06,  1.7874e+08, -7.6719e+06,  ...,  1.2251e+08,\n",
       "           -2.9584e+09, -5.8485e+08],\n",
       "          [-2.1968e+07,  1.4434e+08, -8.4379e+07,  ..., -3.0813e+08,\n",
       "           -6.1308e+09, -2.1011e+08],\n",
       "          [-5.3493e+07, -1.0656e+08,  1.2628e+08,  ..., -6.6517e+08,\n",
       "            1.9797e+09,  1.0964e+09],\n",
       "          ...,\n",
       "          [ 1.0929e+08, -7.0850e+07, -4.1831e+08,  ..., -7.6138e+07,\n",
       "           -1.5402e+08,  6.3346e+06],\n",
       "          [-2.3478e+06, -2.1926e+07,  9.9120e+07,  ...,  4.5743e+07,\n",
       "            2.0594e+08,  6.5702e+07],\n",
       "          [-2.9158e+06, -3.0037e+07, -6.2745e+06,  ...,  2.2511e+06,\n",
       "            1.4639e+07,  4.5119e+07]]],\n",
       "\n",
       "\n",
       "        [[[-1.0230e+08,  2.4668e+08,  2.1157e+07,  ..., -1.5823e+07,\n",
       "            8.8598e+06,  6.2700e+06],\n",
       "          [-6.9565e+07,  5.1411e+08, -1.4936e+08,  ..., -9.6254e+07,\n",
       "           -1.2766e+07, -2.0619e+07],\n",
       "          [-1.3429e+09, -2.3213e+07, -2.8606e+08,  ..., -7.0827e+06,\n",
       "            1.7628e+07,  6.5556e+06],\n",
       "          ...,\n",
       "          [-1.9652e+08, -3.1925e+07,  7.4277e+08,  ..., -9.7400e+05,\n",
       "           -9.1115e+06, -3.3356e+06],\n",
       "          [-1.0705e+08, -1.2430e+09,  4.7744e+08,  ..., -8.1081e+05,\n",
       "           -4.5888e+06, -7.5825e+07],\n",
       "          [ 4.0046e+07, -1.4787e+06,  1.3381e+08,  ..., -7.6848e+06,\n",
       "            1.3554e+07, -4.7863e+05]],\n",
       "\n",
       "         [[-2.7079e+07,  9.9931e+07, -1.8095e+07,  ..., -1.8002e+08,\n",
       "           -4.2700e+07,  4.3021e+07],\n",
       "          [-8.9629e+08, -3.4351e+08, -8.0225e+08,  ..., -3.0185e+06,\n",
       "            1.3860e+08, -1.2716e+06],\n",
       "          [-1.7993e+07,  9.4537e+08,  1.6039e+07,  ...,  9.1507e+06,\n",
       "            9.2968e+06, -3.4869e+08],\n",
       "          ...,\n",
       "          [-6.4712e+07, -1.5188e+07,  6.7735e+06,  ..., -7.3657e+06,\n",
       "           -5.9448e+07,  3.2043e+06],\n",
       "          [ 2.6304e+06, -2.1864e+08, -1.1292e+09,  ...,  1.3676e+07,\n",
       "            1.7211e+07,  7.1630e+06],\n",
       "          [ 2.4262e+07,  3.1360e+08, -4.7652e+08,  ...,  1.5967e+07,\n",
       "            5.3602e+06, -2.1740e+06]],\n",
       "\n",
       "         [[ 1.1833e+07,  6.5864e+08, -4.6101e+07,  ..., -8.1964e+07,\n",
       "           -2.5798e+08, -6.5391e+07],\n",
       "          [-7.3735e+08, -1.7220e+09, -3.3419e+08,  ...,  1.1387e+07,\n",
       "            3.9652e+07,  1.3889e+08],\n",
       "          [-1.7094e+08,  6.6332e+08,  1.7061e+09,  ..., -6.4882e+05,\n",
       "           -1.2968e+08, -2.0415e+07],\n",
       "          ...,\n",
       "          [-6.1989e+06, -4.8652e+06,  3.4511e+08,  ..., -6.0753e+06,\n",
       "           -2.7136e+06, -1.7156e+08],\n",
       "          [-6.4790e+07, -7.2517e+07, -1.9210e+08,  ..., -3.3540e+06,\n",
       "           -2.6716e+06,  1.1790e+07],\n",
       "          [ 1.1284e+08,  1.9535e+07, -1.3985e+08,  ...,  1.6774e+06,\n",
       "            8.2015e+04, -9.5419e+06]]],\n",
       "\n",
       "\n",
       "        [[[-3.5693e+08,  2.6159e+07,  2.8477e+07,  ..., -9.2424e+06,\n",
       "           -1.1175e+08, -7.5846e+06],\n",
       "          [-7.7669e+07,  1.5800e+08,  6.5015e+07,  ..., -5.9623e+07,\n",
       "           -1.3011e+08, -2.0329e+08],\n",
       "          [-2.9635e+08, -1.1125e+08, -7.7571e+07,  ..., -2.8415e+07,\n",
       "           -2.3035e+07,  2.5883e+07],\n",
       "          ...,\n",
       "          [ 1.6503e+08,  2.2536e+07,  3.8454e+08,  ..., -8.5562e+07,\n",
       "           -6.1694e+08,  6.5892e+07],\n",
       "          [ 3.2317e+07, -3.4013e+08,  8.2524e+07,  ...,  5.8618e+06,\n",
       "           -1.8693e+08,  6.1013e+08],\n",
       "          [-1.0635e+06, -6.6837e+07,  3.7410e+07,  ...,  8.6785e+08,\n",
       "            1.0840e+09,  4.5892e+08]],\n",
       "\n",
       "         [[ 3.1869e+06,  1.0349e+08,  4.2834e+08,  ...,  7.6888e+07,\n",
       "           -2.2152e+07, -6.9815e+07],\n",
       "          [-9.2576e+08, -7.9031e+07,  7.4615e+08,  ..., -2.4062e+08,\n",
       "           -1.7571e+07,  6.0663e+07],\n",
       "          [-4.9631e+07,  1.3347e+08, -3.3768e+06,  ...,  1.1057e+08,\n",
       "            2.0209e+07,  6.2491e+06],\n",
       "          ...,\n",
       "          [ 1.5863e+07,  4.5427e+08, -4.0547e+08,  ..., -1.3068e+08,\n",
       "            1.4418e+09, -5.1074e+07],\n",
       "          [ 1.7113e+07, -4.8058e+07, -5.0564e+08,  ...,  2.2025e+08,\n",
       "            3.8380e+08,  3.4035e+06],\n",
       "          [-6.2525e+04,  2.7007e+06,  2.2320e+09,  ...,  3.0520e+07,\n",
       "           -4.4700e+08,  2.1343e+07]],\n",
       "\n",
       "         [[-9.7357e+07,  2.2124e+08,  1.1180e+08,  ...,  6.9550e+07,\n",
       "            4.0602e+06, -1.6206e+08],\n",
       "          [-3.6506e+07, -1.4179e+09, -4.3848e+08,  ..., -6.7676e+07,\n",
       "            1.6769e+07,  1.9606e+08],\n",
       "          [ 9.7636e+07,  3.0318e+08,  4.6939e+08,  ..., -1.4454e+09,\n",
       "           -1.5689e+07, -4.4664e+07],\n",
       "          ...,\n",
       "          [ 4.2083e+08,  5.4294e+07, -1.1059e+09,  ..., -4.3113e+08,\n",
       "           -4.9944e+07, -1.0888e+08],\n",
       "          [-1.3958e+07, -2.3047e+07,  3.6651e+07,  ...,  7.0871e+08,\n",
       "            1.8058e+09,  9.6992e+08],\n",
       "          [ 9.5534e+05,  4.6419e+07,  1.8250e+09,  ..., -5.2603e+08,\n",
       "           -1.4637e+08,  3.6055e+08]]]], device='cuda:1')"
      ]
     },
     "execution_count": 15,
     "metadata": {},
     "output_type": "execute_result"
    }
   ],
   "source": [
    "z_samples = torch.distributions.Normal(0, 1).sample(sample_shape=([25] + realnvp.final_scale.base_input_shape))\n",
    "realnvp.sample(z_base_sample=z_samples)"
   ]
  },
  {
   "cell_type": "code",
   "execution_count": 16,
   "metadata": {},
   "outputs": [],
   "source": [
    "forwarded, _ = realnvp.forward(tmp_input)"
   ]
  },
  {
   "cell_type": "code",
   "execution_count": 17,
   "metadata": {},
   "outputs": [
    {
     "data": {
      "text/plain": [
       "torch.Size([5, 3, 32, 32])"
      ]
     },
     "execution_count": 17,
     "metadata": {},
     "output_type": "execute_result"
    }
   ],
   "source": [
    "forwarded.shape"
   ]
  },
  {
   "cell_type": "code",
   "execution_count": 127,
   "metadata": {},
   "outputs": [
    {
     "name": "stdout",
     "output_type": "stream",
     "text": [
      "number of parameters in the model 3242162\n"
     ]
    }
   ],
   "source": [
    "realnvp = RealNVP(num_scales=num_scales, device=device,\n",
    "                  num_step_of_flow=num_step_of_flow,\n",
    "                  num_resnet_blocks=num_resnet_blocks).to(device)\n",
    "print(f\"number of parameters in the model {sum([p.numel() for p in realnvp.parameters()])}\")\n",
    "optimizer = torch.optim.Adam(lr=1e-3, params=realnvp.parameters())"
   ]
  },
  {
   "cell_type": "code",
   "execution_count": null,
   "metadata": {},
   "outputs": [],
   "source": [
    "n_row, n_column = 5, 5\n",
    "n_channels, h, w = realnvp.final_scale.base_input_shape\n",
    "z_base_sample_shape = [n_row * n_column, n_channels, h, w]\n",
    "z_base_sample = torch.distributions.Normal(0, 1).sample(sample_shape=z_base_sample_shape)\n",
    "generated_image_fixed = realnvp.sample(n_row * n_column, z_base_sample=z_base_sample).view(n_row, n_column, 3, 32, 32)\n",
    "save_plot(n_row=5, n_column=5, generated_image=z_base_sample, fixed_image=True, )"
   ]
  },
  {
   "cell_type": "code",
   "execution_count": 20,
   "metadata": {},
   "outputs": [
    {
     "name": "stdout",
     "output_type": "stream",
     "text": [
      "epcoh 0, batch 0, loss 24.686450958251953\n",
      "epcoh 0, batch 99, loss 20.845592498779297\n",
      "epcoh 0, batch 198, loss 20.163156509399414\n",
      "epcoh 0, batch 297, loss 19.719894409179688\n",
      "epcoh 0, batch 396, loss 19.411968231201172\n",
      "epoch 0, took: 922.2695274353027 loss: 20.220735549926758\n"
     ]
    },
    {
     "ename": "AttributeError",
     "evalue": "'NoneType' object has no attribute 'to'",
     "output_type": "error",
     "traceback": [
      "\u001b[0;31m---------------------------------------------------------------------------\u001b[0m",
      "\u001b[0;31mAttributeError\u001b[0m                            Traceback (most recent call last)",
      "\u001b[0;32m/tmp/ipykernel_32418/2917844354.py\u001b[0m in \u001b[0;36m<module>\u001b[0;34m\u001b[0m\n\u001b[1;32m     25\u001b[0m \u001b[0;34m\u001b[0m\u001b[0m\n\u001b[1;32m     26\u001b[0m \u001b[0;34m\u001b[0m\u001b[0m\n\u001b[0;32m---> 27\u001b[0;31m     \u001b[0mgenerated_image\u001b[0m \u001b[0;34m=\u001b[0m \u001b[0mrealnvp\u001b[0m\u001b[0;34m.\u001b[0m\u001b[0msample\u001b[0m\u001b[0;34m(\u001b[0m\u001b[0mn_row\u001b[0m \u001b[0;34m*\u001b[0m \u001b[0mn_column\u001b[0m\u001b[0;34m,\u001b[0m \u001b[0mz_base_sample\u001b[0m\u001b[0;34m=\u001b[0m\u001b[0;32mNone\u001b[0m\u001b[0;34m)\u001b[0m\u001b[0;34m.\u001b[0m\u001b[0mview\u001b[0m\u001b[0;34m(\u001b[0m\u001b[0mn_row\u001b[0m\u001b[0;34m,\u001b[0m \u001b[0mn_column\u001b[0m\u001b[0;34m,\u001b[0m \u001b[0;36m3\u001b[0m\u001b[0;34m,\u001b[0m \u001b[0;36m32\u001b[0m\u001b[0;34m,\u001b[0m \u001b[0;36m32\u001b[0m\u001b[0;34m)\u001b[0m\u001b[0;34m\u001b[0m\u001b[0;34m\u001b[0m\u001b[0m\n\u001b[0m\u001b[1;32m     28\u001b[0m     \u001b[0msave_plot\u001b[0m\u001b[0;34m(\u001b[0m\u001b[0mn_row\u001b[0m\u001b[0;34m=\u001b[0m\u001b[0mn_row\u001b[0m\u001b[0;34m,\u001b[0m \u001b[0mn_column\u001b[0m\u001b[0;34m=\u001b[0m\u001b[0mn_column\u001b[0m\u001b[0;34m,\u001b[0m \u001b[0mpath\u001b[0m\u001b[0;34m=\u001b[0m\u001b[0msample_path\u001b[0m\u001b[0;34m,\u001b[0m \u001b[0mgenerated_image\u001b[0m\u001b[0;34m=\u001b[0m\u001b[0mgenerated_image\u001b[0m\u001b[0;34m,\u001b[0m \u001b[0mepoch\u001b[0m\u001b[0;34m=\u001b[0m\u001b[0me\u001b[0m\u001b[0;34m,\u001b[0m \u001b[0mfixed_image\u001b[0m\u001b[0;34m=\u001b[0m\u001b[0;32mFalse\u001b[0m\u001b[0;34m)\u001b[0m\u001b[0;34m\u001b[0m\u001b[0;34m\u001b[0m\u001b[0m\n\u001b[1;32m     29\u001b[0m \u001b[0;34m\u001b[0m\u001b[0m\n",
      "\u001b[0;32m~/real_nvp/utils.py\u001b[0m in \u001b[0;36msample\u001b[0;34m(self, num_samples, z_base_sample)\u001b[0m\n\u001b[1;32m    513\u001b[0m             \u001b[0mz_base_sample\u001b[0m\u001b[0;34m.\u001b[0m\u001b[0mshape\u001b[0m\u001b[0;34m[\u001b[0m\u001b[0;36m2\u001b[0m\u001b[0;34m]\u001b[0m \u001b[0;34m==\u001b[0m \u001b[0mself\u001b[0m\u001b[0;34m.\u001b[0m\u001b[0mfinal_scale\u001b[0m\u001b[0;34m.\u001b[0m\u001b[0mbase_input_shape\u001b[0m\u001b[0;34m[\u001b[0m\u001b[0;36m1\u001b[0m\u001b[0;34m]\u001b[0m \u001b[0;32mand\u001b[0m\u001b[0;31m \u001b[0m\u001b[0;31m\\\u001b[0m\u001b[0;34m\u001b[0m\u001b[0;34m\u001b[0m\u001b[0m\n\u001b[1;32m    514\u001b[0m             \u001b[0mz_base_sample\u001b[0m\u001b[0;34m.\u001b[0m\u001b[0mshape\u001b[0m\u001b[0;34m[\u001b[0m\u001b[0;36m3\u001b[0m\u001b[0;34m]\u001b[0m \u001b[0;34m==\u001b[0m \u001b[0mself\u001b[0m\u001b[0;34m.\u001b[0m\u001b[0mfinal_scale\u001b[0m\u001b[0;34m.\u001b[0m\u001b[0mbase_input_shape\u001b[0m\u001b[0;34m[\u001b[0m\u001b[0;36m2\u001b[0m\u001b[0;34m]\u001b[0m\u001b[0;34m\u001b[0m\u001b[0;34m\u001b[0m\u001b[0m\n\u001b[0;32m--> 515\u001b[0;31m         \u001b[0mz_base_sample\u001b[0m \u001b[0;34m=\u001b[0m \u001b[0mz_base_sample\u001b[0m\u001b[0;34m.\u001b[0m\u001b[0mto\u001b[0m\u001b[0;34m(\u001b[0m\u001b[0mdevice\u001b[0m\u001b[0;34m)\u001b[0m\u001b[0;34m\u001b[0m\u001b[0;34m\u001b[0m\u001b[0m\n\u001b[0m\u001b[1;32m    516\u001b[0m         \u001b[0mgenerated_image\u001b[0m \u001b[0;34m=\u001b[0m \u001b[0mself\u001b[0m\u001b[0;34m.\u001b[0m\u001b[0mreverse\u001b[0m\u001b[0;34m(\u001b[0m\u001b[0mz_base_sample\u001b[0m\u001b[0;34m)\u001b[0m\u001b[0;34m\u001b[0m\u001b[0;34m\u001b[0m\u001b[0m\n\u001b[1;32m    517\u001b[0m         \u001b[0;32mreturn\u001b[0m \u001b[0mgenerated_image\u001b[0m\u001b[0;34m\u001b[0m\u001b[0;34m\u001b[0m\u001b[0m\n",
      "\u001b[0;31mAttributeError\u001b[0m: 'NoneType' object has no attribute 'to'"
     ]
    }
   ],
   "source": [
    "# plotting\n",
    "n_row, n_column = 5, 5\n",
    "n_channels, h, w = realnvp.final_scale.base_input_shape\n",
    "z_base_sample_shape = [n_row * n_column, n_channels, h, w]\n",
    "z_base_sample = torch.distributions.Normal(0, 1).sample(sample_shape=z_base_sample_shape)\n",
    "\n",
    "loss_per_epoch = []\n",
    "for e in range(0, epochs):\n",
    "    loss_per_bath = []\n",
    "    epoch_start_time = time.time()\n",
    "    for i, data in enumerate(dataloader):\n",
    "        image_batch = data.to(device)\n",
    "        optimizer.zero_grad()\n",
    "        z, loss = realnvp(image_batch)\n",
    "        loss.backward()\n",
    "        optimizer.step()\n",
    "        if i % 99 == 0:\n",
    "            print(f\"epcoh {e}, batch {i}, loss {loss}\")\n",
    "        loss_per_bath.append(loss)\n",
    "    \n",
    "    epoch_loss = torch.Tensor(loss_per_bath).mean()\n",
    "    epoch_end_time = time.time()\n",
    "    print(f\"epoch {e}, took: {epoch_end_time - epoch_start_time} loss: {epoch_loss}\")\n",
    "    realnvp.eval()\n",
    "    \n",
    "    \n",
    "    generated_image = realnvp.sample(n_row * n_column, z_base_sample=None).view(n_row, n_column, 3, 32, 32)\n",
    "    save_plot(n_row=n_row, n_column=n_column, path=sample_path, generated_image=generated_image, epoch=e, fixed_image=False)\n",
    "    \n",
    "    generated_image_fixed = realnvp.sample(n_row * n_column, z_base_sample=z_base_sample).view(n_row, n_column, 3, 32, 32)\n",
    "    save_plot(n_row=n_row, n_column=n_column, path=sample_path, generated_image=generated_image_fixed, epoch=e, fixed_image=True)\n",
    "    \n",
    "    realnvp.train()\n",
    "    \n",
    "    loss_per_epoch.append(epoch_loss)"
   ]
  },
  {
   "cell_type": "code",
   "execution_count": 82,
   "metadata": {},
   "outputs": [
    {
     "name": "stdout",
     "output_type": "stream",
     "text": [
      "b {'c': {'d': {'e': 'f'}, 'g': 'h'}}\n",
      "b {'c': {'d': {'e': 'f'}, 'g': 'h'}}\n",
      "c {'d': {'e': 'f'}, 'g': 'h'}\n",
      "c {'d': {'e': 'f'}, 'g': 'h'}\n",
      "d {'e': 'f'}\n",
      "d {'e': 'f'}\n",
      "e f\n",
      "g h\n",
      "---\n",
      "{'b': {'c': {'d': {'e': 'f'}, 'g': 'h'}}}\n"
     ]
    }
   ],
   "source": [
    "from types import SimpleNamespace\n",
    "a = {\"b\": \n",
    "        {\"c\": \n",
    "            {\"d\": \n",
    "                {\"e\":\"f\"}, \"g\": \"h\"}}}\n",
    "\n",
    "def convert_to_namseSpace(dictionary):\n",
    "    res = {}\n",
    "    for k, value in dictionary.items():\n",
    "        print(k, value)\n",
    "        if type(dictionary[k]) is dict:\n",
    "            print(k, value)\n",
    "            name_spaced_value = convert_to_namseSpace(dictionary=dictionary[k])\n",
    "            res[k] = name_spaced_value\n",
    "        else:\n",
    "            return SimpleNamespace(**{k:value})\n",
    "    \n",
    "    return SimpleNamespace(**res)\n",
    "\n",
    "res = convert_to_namseSpace(a)\n",
    "print(\"---\")\n",
    "print(a)  "
   ]
  },
  {
   "cell_type": "code",
   "execution_count": 87,
   "metadata": {},
   "outputs": [
    {
     "data": {
      "text/plain": [
       "{'d': {'e': 'f'}, 'g': 'h'}"
      ]
     },
     "execution_count": 87,
     "metadata": {},
     "output_type": "execute_result"
    }
   ],
   "source": [
    "a[\"b\"][\"c\"]"
   ]
  },
  {
   "cell_type": "code",
   "execution_count": 91,
   "metadata": {},
   "outputs": [
    {
     "data": {
      "text/plain": [
       "{'a': 'b', 'c': namespace(d='e')}"
      ]
     },
     "execution_count": 91,
     "metadata": {},
     "output_type": "execute_result"
    }
   ],
   "source": [
    "tmp = SimpleNamespace(**{\"a\": \"b\", \"c\":SimpleNamespace(**{\"d\": \"e\"})})\n",
    "tmp.__dict__"
   ]
  },
  {
   "cell_type": "code",
   "execution_count": 102,
   "metadata": {},
   "outputs": [],
   "source": [
    "from typing import Any\n",
    "\n",
    "\n",
    "class RecNameSpace(SimpleNamespace):\n",
    "    def __init__(self, **kwargs: Any) -> None:\n",
    "        nameSpaced = {k: RecNameSpace(**v) if isinstance(v, dict) else v for k,v in kwargs.items()}\n",
    "        super().__init__(**nameSpaced)\n",
    "\n",
    "\n",
    "res = RecNameSpace(**a)    "
   ]
  },
  {
   "cell_type": "code",
   "execution_count": 112,
   "metadata": {},
   "outputs": [
    {
     "data": {
      "text/plain": [
       "'h'"
      ]
     },
     "execution_count": 112,
     "metadata": {},
     "output_type": "execute_result"
    }
   ],
   "source": [
    "res.b.c.g"
   ]
  },
  {
   "cell_type": "code",
   "execution_count": 114,
   "metadata": {},
   "outputs": [
    {
     "ename": "TypeError",
     "evalue": "'RecNameSpace' object is not iterable",
     "output_type": "error",
     "traceback": [
      "\u001b[0;31m---------------------------------------------------------------------------\u001b[0m",
      "\u001b[0;31mTypeError\u001b[0m                                 Traceback (most recent call last)",
      "\u001b[0;32m/tmp/ipykernel_15258/2829910929.py\u001b[0m in \u001b[0;36m<module>\u001b[0;34m\u001b[0m\n\u001b[0;32m----> 1\u001b[0;31m \u001b[0;32mfor\u001b[0m \u001b[0melem\u001b[0m \u001b[0;32min\u001b[0m \u001b[0mres\u001b[0m\u001b[0;34m:\u001b[0m\u001b[0;34m\u001b[0m\u001b[0;34m\u001b[0m\u001b[0m\n\u001b[0m\u001b[1;32m      2\u001b[0m     \u001b[0mprint\u001b[0m\u001b[0;34m(\u001b[0m\u001b[0melem\u001b[0m\u001b[0;34m)\u001b[0m\u001b[0;34m\u001b[0m\u001b[0;34m\u001b[0m\u001b[0m\n",
      "\u001b[0;31mTypeError\u001b[0m: 'RecNameSpace' object is not iterable"
     ]
    }
   ],
   "source": []
  },
  {
   "cell_type": "code",
   "execution_count": null,
   "metadata": {},
   "outputs": [],
   "source": []
  }
 ],
 "metadata": {
  "kernelspec": {
   "display_name": "base",
   "language": "python",
   "name": "python3"
  },
  "language_info": {
   "codemirror_mode": {
    "name": "ipython",
    "version": 3
   },
   "file_extension": ".py",
   "mimetype": "text/x-python",
   "name": "python",
   "nbconvert_exporter": "python",
   "pygments_lexer": "ipython3",
   "version": "3.7.12"
  },
  "orig_nbformat": 4,
  "vscode": {
   "interpreter": {
    "hash": "d4d1e4263499bec80672ea0156c357c1ee493ec2b1c70f0acce89fc37c4a6abe"
   }
  }
 },
 "nbformat": 4,
 "nbformat_minor": 2
}
