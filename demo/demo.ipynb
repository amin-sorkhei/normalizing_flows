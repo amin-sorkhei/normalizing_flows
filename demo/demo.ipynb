{
 "cells": [
  {
   "cell_type": "code",
   "execution_count": 43,
   "metadata": {},
   "outputs": [],
   "source": [
    "import torch\n",
    "import yaml\n",
    "import os\n",
    "import numpy as np\n",
    "from normalizing_flows import models\n",
    "import tempfile\n",
    "import matplotlib.pyplot as plt\n",
    "import imageio"
   ]
  },
  {
   "cell_type": "code",
   "execution_count": 3,
   "metadata": {},
   "outputs": [],
   "source": [
    "# load model parameters\n",
    "params = yaml.safe_load(open(\"./model/params.json\"))"
   ]
  },
  {
   "cell_type": "code",
   "execution_count": 26,
   "metadata": {},
   "outputs": [
    {
     "data": {
      "text/plain": [
       "<All keys matched successfully>"
      ]
     },
     "execution_count": 26,
     "metadata": {},
     "output_type": "execute_result"
    }
   ],
   "source": [
    "torch.manual_seed(42)\n",
    "glow = models.Glow(K=params[\"model_params\"][\"num_step_of_flow\"],\n",
    "                   L=params[\"model_params\"][\"num_scales\"],\n",
    "                   base_input_shape=[3, 64, 64]).to(torch.device(\"cuda:0\"))\n",
    "# manually download the model from \n",
    "# \n",
    "ckpt = torch.load(\"./model/best_model_99_20230701_133810.pt\")\n",
    "glow.load_state_dict(ckpt[\"model_state_dict\"])"
   ]
  },
  {
   "cell_type": "code",
   "execution_count": 58,
   "metadata": {},
   "outputs": [],
   "source": [
    "# number of samples in the grid\n",
    "n_row, n_col = 3, 3\n",
    "temperatures = np.linspace(start=0., stop=1., num=100)\n",
    "seed = 42"
   ]
  },
  {
   "cell_type": "code",
   "execution_count": 61,
   "metadata": {},
   "outputs": [
    {
     "name": "stderr",
     "output_type": "stream",
     "text": [
      "/opt/conda/lib/python3.7/site-packages/ipykernel_launcher.py:31: DeprecationWarning: Starting with ImageIO v3 the behavior of this function will switch to that of iio.v3.imread. To keep the current behavior (and make this warning disappear) use `import imageio.v2 as imageio` or call `imageio.v2.imread` directly.\n"
     ]
    }
   ],
   "source": [
    "with tempfile.TemporaryDirectory() as temp_directory:\n",
    "    for T in temperatures:\n",
    "        generated_image = glow.sample(T=T, fixed_sample=True,\n",
    "                                      seed=seed, num_samples=n_row*n_col,\n",
    "                                      device=torch.device(\"cuda:0\"))\n",
    "        generated_image = generated_image.clamp(-.5, +.5) + .5\n",
    "        generated_image = generated_image.view(n_row, n_col, 3, 64, 64)\n",
    "        generated_image = generated_image.detach().cpu().numpy()\n",
    "        \n",
    "        fig, ax = plt.subplots(n_row, n_col, squeeze=True,\n",
    "                                subplot_kw=dict(aspect=1),\n",
    "                                gridspec_kw=dict(hspace=0, wspace=0))\n",
    "        fig.subplots_adjust(wspace=0.02, hspace=0.02)\n",
    "        \n",
    "        for i in range(n_row):\n",
    "            for j in range(n_col):\n",
    "                ax[i, j].axis(\"off\")\n",
    "                ax[i, j].imshow(generated_image[i, j].transpose(1, 2, 0))\n",
    "        plt.suptitle(f\"temperature {T}\")\n",
    "        plt.savefig(os.path.join(temp_directory, f\"image_{T}.png\"))\n",
    "        plt.close()\n",
    "        \n",
    "        \n",
    "    # generate a gif out of samples\n",
    "    filenames =\\\n",
    "    map(lambda image_path: os.path.join(temp_directory, image_path),\n",
    "    [img_path for img_path in sorted(os.listdir(temp_directory)) if img_path.endswith(\"png\")])\n",
    "\n",
    "    with imageio.get_writer('./temperatures.gif', mode='I') as writer:\n",
    "        for filename in filenames:\n",
    "            image = imageio.imread(filename)\n",
    "            writer.append_data(image)"
   ]
  },
  {
   "attachments": {},
   "cell_type": "markdown",
   "metadata": {},
   "source": [
    "![SegmentLocal](temperatures.gif \"segment\")"
   ]
  },
  {
   "attachments": {},
   "cell_type": "markdown",
   "metadata": {},
   "source": []
  }
 ],
 "metadata": {
  "kernelspec": {
   "display_name": "base",
   "language": "python",
   "name": "python3"
  },
  "language_info": {
   "codemirror_mode": {
    "name": "ipython",
    "version": 3
   },
   "file_extension": ".py",
   "mimetype": "text/x-python",
   "name": "python",
   "nbconvert_exporter": "python",
   "pygments_lexer": "ipython3",
   "version": "3.7.12"
  },
  "orig_nbformat": 4
 },
 "nbformat": 4,
 "nbformat_minor": 2
}
