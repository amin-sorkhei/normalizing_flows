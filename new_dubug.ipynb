{
 "cells": [
  {
   "cell_type": "code",
   "execution_count": null,
   "metadata": {},
   "outputs": [],
   "source": [
    "%load_ext autoreload\n",
    "%autoreload 2"
   ]
  },
  {
   "cell_type": "code",
   "execution_count": null,
   "metadata": {},
   "outputs": [],
   "source": [
    "import torch"
   ]
  },
  {
   "cell_type": "code",
   "execution_count": null,
   "metadata": {},
   "outputs": [],
   "source": [
    "from utils import ActNorm, Invertibe1by1Convolution\n",
    "import utils"
   ]
  },
  {
   "cell_type": "code",
   "execution_count": null,
   "metadata": {},
   "outputs": [
    {
     "data": {
      "text/plain": [
       "tensor([[[ 1.9269,  1.4873,  0.9007, -2.1055],\n",
       "         [ 0.6784, -1.2345, -0.0431, -1.6047],\n",
       "         [-0.7521,  1.6487, -0.3925, -1.4036],\n",
       "         [-0.7279, -0.5594, -0.7688,  0.7624]],\n",
       "\n",
       "        [[ 1.6423, -0.1596, -0.4974,  0.4396],\n",
       "         [-0.7581,  1.0783,  0.8008,  1.6806],\n",
       "         [ 1.2791,  1.2964,  0.6105,  1.3347],\n",
       "         [-0.2316,  0.0418, -0.2516,  0.8599]],\n",
       "\n",
       "        [[-1.3847, -0.8712, -0.2234,  1.7174],\n",
       "         [ 0.3189, -0.4245,  0.3057, -0.7746],\n",
       "         [-1.5576,  0.9956, -0.8798, -0.6011],\n",
       "         [-1.2742,  2.1228, -1.2347, -0.4879]]])"
      ]
     },
     "execution_count": 4,
     "metadata": {},
     "output_type": "execute_result"
    }
   ],
   "source": [
    "torch.manual_seed(42)\n",
    "tmp_input = torch.randn(5, 3, 4, 4)\n",
    "tmp_input[0, ...]"
   ]
  },
  {
   "cell_type": "code",
   "execution_count": null,
   "metadata": {},
   "outputs": [],
   "source": [
    "ac = ActNorm()\n",
    "forwarded, logdet = ac(tmp_input)"
   ]
  },
  {
   "cell_type": "code",
   "execution_count": null,
   "metadata": {},
   "outputs": [
    {
     "data": {
      "text/plain": [
       "tensor([[[ 1.7572,  1.3327,  0.7663, -2.1364],\n",
       "         [ 0.5517, -1.2954, -0.1450, -1.6528],\n",
       "         [-0.8296,  1.4886, -0.4823, -1.4586],\n",
       "         [-0.8062, -0.6435, -0.8457,  0.6328]],\n",
       "\n",
       "        [[ 1.5180, -0.3344, -0.6816,  0.2816],\n",
       "         [-0.9497,  0.9382,  0.6529,  1.5574],\n",
       "         [ 1.1446,  1.1624,  0.4572,  1.2018],\n",
       "         [-0.4084, -0.1274, -0.4289,  0.7136]],\n",
       "\n",
       "        [[-1.2794, -0.7635, -0.1126,  1.8373],\n",
       "         [ 0.4322, -0.3147,  0.4190, -0.6664],\n",
       "         [-1.4531,  1.1122, -0.7721, -0.4922],\n",
       "         [-1.1684,  2.2446, -1.1287, -0.3784]]], grad_fn=<SelectBackward0>)"
      ]
     },
     "execution_count": 6,
     "metadata": {},
     "output_type": "execute_result"
    }
   ],
   "source": [
    "forwarded[0, ...]"
   ]
  },
  {
   "cell_type": "code",
   "execution_count": null,
   "metadata": {},
   "outputs": [
    {
     "data": {
      "text/plain": [
       "tensor([-0.0433, -0.0433, -0.0433, -0.0433, -0.0433],\n",
       "       grad_fn=<RepeatBackward0>)"
      ]
     },
     "execution_count": 7,
     "metadata": {},
     "output_type": "execute_result"
    }
   ],
   "source": [
    "logdet"
   ]
  },
  {
   "cell_type": "code",
   "execution_count": null,
   "metadata": {},
   "outputs": [
    {
     "data": {
      "text/plain": [
       "Parameter containing:\n",
       "tensor([[[[1.0592]],\n",
       "\n",
       "         [[0.9344]],\n",
       "\n",
       "         [[0.9782]]]], requires_grad=True)"
      ]
     },
     "execution_count": 8,
     "metadata": {},
     "output_type": "execute_result"
    }
   ],
   "source": [
    "ac.batch_variance"
   ]
  },
  {
   "cell_type": "code",
   "execution_count": null,
   "metadata": {},
   "outputs": [
    {
     "data": {
      "text/plain": [
       "Parameter containing:\n",
       "tensor([[[[ 0.1071]],\n",
       "\n",
       "         [[ 0.1657]],\n",
       "\n",
       "         [[-0.1113]]]], requires_grad=True)"
      ]
     },
     "execution_count": 9,
     "metadata": {},
     "output_type": "execute_result"
    }
   ],
   "source": [
    "ac.batch_mean"
   ]
  },
  {
   "cell_type": "code",
   "execution_count": null,
   "metadata": {},
   "outputs": [
    {
     "data": {
      "text/plain": [
       "tensor([[[[ 0.0575]],\n",
       "\n",
       "         [[-0.0678]],\n",
       "\n",
       "         [[-0.0220]]]], grad_fn=<LogBackward0>)"
      ]
     },
     "execution_count": 10,
     "metadata": {},
     "output_type": "execute_result"
    }
   ],
   "source": [
    "torch.log(ac.batch_variance)"
   ]
  },
  {
   "cell_type": "code",
   "execution_count": null,
   "metadata": {},
   "outputs": [
    {
     "data": {
      "text/plain": [
       "tensor([[[[ 0.0701]],\n",
       "\n",
       "         [[-0.0552]],\n",
       "\n",
       "         [[-0.0094]]]], grad_fn=<LogBackward0>)"
      ]
     },
     "execution_count": 11,
     "metadata": {},
     "output_type": "execute_result"
    }
   ],
   "source": [
    "torch.log(ac.batch_std**2)"
   ]
  },
  {
   "cell_type": "code",
   "execution_count": null,
   "metadata": {},
   "outputs": [
    {
     "data": {
      "text/plain": [
       "(tensor([[[[ 0.0288]],\n",
       " \n",
       "          [[-0.0339]],\n",
       " \n",
       "          [[-0.0110]]]], grad_fn=<LogBackward0>),\n",
       " tensor([[[[ 0.0350]],\n",
       " \n",
       "          [[-0.0276]],\n",
       " \n",
       "          [[-0.0047]]]], grad_fn=<LogBackward0>))"
      ]
     },
     "execution_count": 12,
     "metadata": {},
     "output_type": "execute_result"
    }
   ],
   "source": [
    "ac.batch_variance.sqrt().log(), (ac.batch_std).log()"
   ]
  },
  {
   "cell_type": "code",
   "execution_count": null,
   "metadata": {},
   "outputs": [
    {
     "data": {
      "text/plain": [
       "Parameter containing:\n",
       "tensor([[[[-0.8341]],\n",
       "\n",
       "         [[-0.0222]],\n",
       "\n",
       "         [[-0.5512]]],\n",
       "\n",
       "\n",
       "        [[[-0.1638]],\n",
       "\n",
       "         [[-0.9441]],\n",
       "\n",
       "         [[ 0.2860]]],\n",
       "\n",
       "\n",
       "        [[[-0.5268]],\n",
       "\n",
       "         [[ 0.3288]],\n",
       "\n",
       "         [[ 0.7838]]]], requires_grad=True)"
      ]
     },
     "execution_count": 13,
     "metadata": {},
     "output_type": "execute_result"
    }
   ],
   "source": [
    "torch.manual_seed(41)\n",
    "inv_conv = Invertibe1by1Convolution(3)\n",
    "\n",
    "inv_conv.weight"
   ]
  },
  {
   "cell_type": "code",
   "execution_count": null,
   "metadata": {},
   "outputs": [
    {
     "data": {
      "text/plain": [
       "tensor(1.9073e-06, grad_fn=<MulBackward0>)"
      ]
     },
     "execution_count": 14,
     "metadata": {},
     "output_type": "execute_result"
    }
   ],
   "source": [
    "forwarded, log_det = inv_conv(tmp_input)\n",
    "log_det"
   ]
  },
  {
   "cell_type": "code",
   "execution_count": null,
   "metadata": {},
   "outputs": [],
   "source": [
    "_, _, h, w = tmp_input.shape"
   ]
  },
  {
   "cell_type": "code",
   "execution_count": null,
   "metadata": {},
   "outputs": [
    {
     "data": {
      "text/plain": [
       "tensor(1.9073e-06, grad_fn=<MulBackward0>)"
      ]
     },
     "execution_count": 16,
     "metadata": {},
     "output_type": "execute_result"
    }
   ],
   "source": [
    "h * w * torch.log(torch.abs(torch.linalg.det(inv_conv.weight.squeeze())))"
   ]
  },
  {
   "cell_type": "code",
   "execution_count": null,
   "metadata": {},
   "outputs": [
    {
     "data": {
      "text/plain": [
       "tensor(9.5367e-07, grad_fn=<MulBackward0>)"
      ]
     },
     "execution_count": 17,
     "metadata": {},
     "output_type": "execute_result"
    }
   ],
   "source": [
    "h * w * torch.slogdet(inv_conv.weight.squeeze())[1]"
   ]
  },
  {
   "cell_type": "code",
   "execution_count": null,
   "metadata": {},
   "outputs": [
    {
     "name": "stderr",
     "output_type": "stream",
     "text": [
      "/opt/conda/lib/python3.7/site-packages/torch/nn/functional.py:1967: UserWarning: nn.functional.sigmoid is deprecated. Use torch.sigmoid instead.\n",
      "  warnings.warn(\"nn.functional.sigmoid is deprecated. Use torch.sigmoid instead.\")\n"
     ]
    }
   ],
   "source": [
    "torch.manual_seed(41)\n",
    "tmp_input = torch.randn(5, 4, 4, 4)\n",
    "gAff = utils.GlowAffineCouplingLayer(input_shape=(4, 4, 4), filters=3)\n",
    "y, log_det, log_scale = gAff(tmp_input)"
   ]
  },
  {
   "cell_type": "code",
   "execution_count": null,
   "metadata": {},
   "outputs": [
    {
     "data": {
      "text/plain": [
       "tensor(2.4767e-07, grad_fn=<LinalgVectorNormBackward0>)"
      ]
     },
     "execution_count": 19,
     "metadata": {},
     "output_type": "execute_result"
    }
   ],
   "source": [
    "reversed = gAff.reverse(y)\n",
    "torch.linalg.norm(reversed - tmp_input)"
   ]
  },
  {
   "cell_type": "code",
   "execution_count": null,
   "metadata": {},
   "outputs": [],
   "source": [
    "torch.manual_seed(41)\n",
    "tmp_input = torch.randn(5, 4, 4, 4)\n",
    "flow = utils.StepOfGlow(base_input_shape=tmp_input.shape[1:], num_filters=512)"
   ]
  },
  {
   "cell_type": "code",
   "execution_count": null,
   "metadata": {},
   "outputs": [],
   "source": [
    "forwarded, log_det = flow(tmp_input)"
   ]
  },
  {
   "cell_type": "code",
   "execution_count": null,
   "metadata": {},
   "outputs": [
    {
     "data": {
      "text/plain": [
       "tensor([-2.6153, -2.6153, -2.6153, -2.6153, -2.6153], grad_fn=<AddBackward0>)"
      ]
     },
     "execution_count": 44,
     "metadata": {},
     "output_type": "execute_result"
    }
   ],
   "source": [
    "log_det"
   ]
  },
  {
   "cell_type": "code",
   "execution_count": null,
   "metadata": {},
   "outputs": [
    {
     "name": "stdout",
     "output_type": "stream",
     "text": [
      "tensor([[[-1.0897e-01, -5.3170e-01,  1.3801e+00, -2.5943e+00],\n",
      "         [-1.6551e+00,  1.1393e+00, -1.3062e+00, -5.1382e-01],\n",
      "         [ 1.0265e+00,  1.9025e-01, -1.2840e-01, -1.9024e-01],\n",
      "         [ 9.7518e-01, -3.3117e-01,  2.1830e+00, -9.8944e-01]],\n",
      "\n",
      "        [[ 3.4584e-01,  1.1045e+00,  2.0812e-01,  1.1383e+00],\n",
      "         [-1.0883e-01,  1.7641e+00, -2.0232e-01, -1.2534e+00],\n",
      "         [ 1.4874e+00, -3.6911e-01,  4.9998e-02,  9.0914e-01],\n",
      "         [-3.3591e-01, -7.1173e-01, -2.4907e-01, -1.0833e+00]],\n",
      "\n",
      "        [[ 1.1410e+00,  1.3601e+00, -7.7837e-01, -1.4611e-01],\n",
      "         [ 2.0146e-02, -2.2777e-01, -4.1102e-02,  8.5986e-01],\n",
      "         [ 1.0888e+00,  4.0737e-01, -7.1665e-01, -1.8994e-01],\n",
      "         [-1.0085e+00, -1.1568e+00,  8.9326e-01, -1.1979e+00]],\n",
      "\n",
      "        [[-3.3335e-01, -1.5872e+00, -1.2233e+00, -1.5227e-03],\n",
      "         [ 6.1887e-01, -7.3106e-01,  2.4905e-01,  1.1513e+00],\n",
      "         [-6.1837e-01, -1.7308e+00, -9.2443e-01,  1.2141e-01],\n",
      "         [ 4.5520e-01, -1.0203e-01,  7.4635e-01, -6.5439e-01]]],\n",
      "       grad_fn=<SelectBackward0>)\n",
      "tensor([[[ 0.4089, -0.3865, -1.5457, -0.0993],\n",
      "         [ 0.7627, -1.7066,  0.5056,  1.9135],\n",
      "         [-0.6304, -0.4620, -0.9256, -0.4961],\n",
      "         [-0.4659, -0.3455,  0.5829, -0.3046]],\n",
      "\n",
      "        [[-0.6419, -0.8095,  0.3301, -0.3024],\n",
      "         [ 0.2004, -1.2777,  0.3612,  0.3112],\n",
      "         [-1.6604,  0.6881,  0.6345, -0.6423],\n",
      "         [ 0.3523,  1.1859, -0.9171,  1.8324]],\n",
      "\n",
      "        [[-0.3483, -0.3246, -1.2358,  2.4851],\n",
      "         [ 1.5475, -0.6597,  1.1274,  0.1968],\n",
      "         [-1.0714, -1.0087,  0.0504,  0.5027],\n",
      "         [-0.3680,  0.4689, -1.9222,  0.7358]],\n",
      "\n",
      "        [[-0.9186, -2.2274,  0.1582, -1.3305],\n",
      "         [-0.3431, -0.1280, -0.3922,  0.3203],\n",
      "         [-0.7290, -1.2765, -0.3539, -0.0475],\n",
      "         [ 1.3459,  0.4682,  1.1432, -0.1542]]], grad_fn=<SelectBackward0>)\n",
      "tensor([[[ 0.2465, -0.4717, -1.5184, -0.2124],\n",
      "         [ 0.5660, -1.6637,  0.3338,  1.6051],\n",
      "         [-0.6919, -0.5399, -0.9585, -0.5706],\n",
      "         [-0.5434, -0.4347,  0.4036, -0.3977]],\n",
      "\n",
      "        [[-0.7593, -0.9401,  0.2895, -0.3930],\n",
      "         [ 0.1495, -1.4453,  0.3230,  0.2691],\n",
      "         [-1.8582,  0.6758,  0.6179, -0.7597],\n",
      "         [ 0.3135,  1.2129, -1.0562,  1.9104]],\n",
      "\n",
      "        [[-0.3103, -0.2846, -1.2708,  2.7563],\n",
      "         [ 1.7416, -0.6473,  1.2869,  0.2798],\n",
      "         [-1.0929, -1.0251,  0.1212,  0.6108],\n",
      "         [-0.3316,  0.5742, -2.0137,  0.8630]],\n",
      "\n",
      "        [[-0.8498, -1.9837,  0.0832, -1.2066],\n",
      "         [-0.3511, -0.1648, -0.3937,  0.2237],\n",
      "         [-0.6855, -1.1598, -0.3605, -0.0950],\n",
      "         [ 1.1122,  0.3517,  0.9366, -0.1875]]], grad_fn=<SelectBackward0>)\n"
     ]
    },
    {
     "name": "stderr",
     "output_type": "stream",
     "text": [
      "/opt/conda/lib/python3.7/site-packages/torch/nn/functional.py:1967: UserWarning: nn.functional.sigmoid is deprecated. Use torch.sigmoid instead.\n",
      "  warnings.warn(\"nn.functional.sigmoid is deprecated. Use torch.sigmoid instead.\")\n"
     ]
    }
   ],
   "source": [
    "backwarded = flow.reverse(forwarded)"
   ]
  },
  {
   "cell_type": "code",
   "execution_count": null,
   "metadata": {},
   "outputs": [
    {
     "data": {
      "text/plain": [
       "tensor(1.5357e-06, grad_fn=<LinalgVectorNormBackward0>)"
      ]
     },
     "execution_count": 52,
     "metadata": {},
     "output_type": "execute_result"
    }
   ],
   "source": [
    "torch.linalg.norm(backwarded - tmp_input)"
   ]
  },
  {
   "cell_type": "code",
   "execution_count": null,
   "metadata": {},
   "outputs": [],
   "source": [
    "1"
   ]
  },
  {
   "cell_type": "code",
   "execution_count": null,
   "metadata": {},
   "outputs": [],
   "source": []
  }
 ],
 "metadata": {
  "kernelspec": {
   "display_name": "base",
   "language": "python",
   "name": "python3"
  },
  "language_info": {
   "codemirror_mode": {
    "name": "ipython",
    "version": 3
   },
   "file_extension": ".py",
   "mimetype": "text/x-python",
   "name": "python",
   "nbconvert_exporter": "python",
   "pygments_lexer": "ipython3",
   "version": "3.7.12"
  },
  "orig_nbformat": 4
 },
 "nbformat": 4,
 "nbformat_minor": 2
}
