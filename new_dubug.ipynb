{
 "cells": [
  {
   "cell_type": "code",
   "execution_count": 34,
   "metadata": {},
   "outputs": [
    {
     "name": "stdout",
     "output_type": "stream",
     "text": [
      "The autoreload extension is already loaded. To reload it, use:\n",
      "  %reload_ext autoreload\n"
     ]
    }
   ],
   "source": [
    "%load_ext autoreload\n",
    "%autoreload 2"
   ]
  },
  {
   "cell_type": "code",
   "execution_count": 59,
   "metadata": {},
   "outputs": [],
   "source": [
    "import torch\n",
    "import blocks\n",
    "import models"
   ]
  },
  {
   "cell_type": "code",
   "execution_count": 36,
   "metadata": {},
   "outputs": [],
   "source": [
    "from utils import ActNorm, Invertibe1by1Convolution\n",
    "import utils"
   ]
  },
  {
   "cell_type": "code",
   "execution_count": 37,
   "metadata": {},
   "outputs": [
    {
     "data": {
      "text/plain": [
       "tensor([[[ 1.9269,  1.4873,  0.9007, -2.1055],\n",
       "         [ 0.6784, -1.2345, -0.0431, -1.6047],\n",
       "         [-0.7521,  1.6487, -0.3925, -1.4036],\n",
       "         [-0.7279, -0.5594, -0.7688,  0.7624]],\n",
       "\n",
       "        [[ 1.6423, -0.1596, -0.4974,  0.4396],\n",
       "         [-0.7581,  1.0783,  0.8008,  1.6806],\n",
       "         [ 1.2791,  1.2964,  0.6105,  1.3347],\n",
       "         [-0.2316,  0.0418, -0.2516,  0.8599]],\n",
       "\n",
       "        [[-1.3847, -0.8712, -0.2234,  1.7174],\n",
       "         [ 0.3189, -0.4245,  0.3057, -0.7746],\n",
       "         [-1.5576,  0.9956, -0.8798, -0.6011],\n",
       "         [-1.2742,  2.1228, -1.2347, -0.4879]]])"
      ]
     },
     "execution_count": 37,
     "metadata": {},
     "output_type": "execute_result"
    }
   ],
   "source": [
    "torch.manual_seed(42)\n",
    "tmp_input = torch.randn(5, 3, 4, 4)\n",
    "tmp_input[0, ...]"
   ]
  },
  {
   "cell_type": "code",
   "execution_count": 38,
   "metadata": {},
   "outputs": [],
   "source": [
    "ac = ActNorm(num_channels=tmp_input.shape[1])\n",
    "forwarded, logdet = ac(tmp_input)"
   ]
  },
  {
   "cell_type": "code",
   "execution_count": 39,
   "metadata": {},
   "outputs": [
    {
     "data": {
      "text/plain": [
       "tensor([[[ 1.7572,  1.3327,  0.7663, -2.1364],\n",
       "         [ 0.5517, -1.2954, -0.1450, -1.6528],\n",
       "         [-0.8296,  1.4886, -0.4823, -1.4586],\n",
       "         [-0.8062, -0.6435, -0.8457,  0.6328]],\n",
       "\n",
       "        [[ 1.5180, -0.3344, -0.6816,  0.2816],\n",
       "         [-0.9497,  0.9382,  0.6529,  1.5574],\n",
       "         [ 1.1446,  1.1624,  0.4572,  1.2018],\n",
       "         [-0.4084, -0.1274, -0.4289,  0.7136]],\n",
       "\n",
       "        [[-1.2794, -0.7635, -0.1126,  1.8373],\n",
       "         [ 0.4322, -0.3147,  0.4190, -0.6664],\n",
       "         [-1.4531,  1.1122, -0.7721, -0.4922],\n",
       "         [-1.1684,  2.2446, -1.1287, -0.3784]]], grad_fn=<SelectBackward0>)"
      ]
     },
     "execution_count": 39,
     "metadata": {},
     "output_type": "execute_result"
    }
   ],
   "source": [
    "forwarded[0, ...]"
   ]
  },
  {
   "cell_type": "code",
   "execution_count": 40,
   "metadata": {},
   "outputs": [
    {
     "data": {
      "text/plain": [
       "tensor([-0.0433, -0.0433, -0.0433, -0.0433, -0.0433],\n",
       "       grad_fn=<RepeatBackward0>)"
      ]
     },
     "execution_count": 40,
     "metadata": {},
     "output_type": "execute_result"
    }
   ],
   "source": [
    "logdet"
   ]
  },
  {
   "cell_type": "code",
   "execution_count": 41,
   "metadata": {},
   "outputs": [
    {
     "data": {
      "text/plain": [
       "Parameter containing:\n",
       "tensor([[[[ 0.1071]],\n",
       "\n",
       "         [[ 0.1657]],\n",
       "\n",
       "         [[-0.1113]]]], requires_grad=True)"
      ]
     },
     "execution_count": 41,
     "metadata": {},
     "output_type": "execute_result"
    }
   ],
   "source": [
    "ac.batch_mean"
   ]
  },
  {
   "cell_type": "code",
   "execution_count": 42,
   "metadata": {},
   "outputs": [
    {
     "data": {
      "text/plain": [
       "tensor([[[[ 0.0701]],\n",
       "\n",
       "         [[-0.0552]],\n",
       "\n",
       "         [[-0.0094]]]], grad_fn=<LogBackward0>)"
      ]
     },
     "execution_count": 42,
     "metadata": {},
     "output_type": "execute_result"
    }
   ],
   "source": [
    "torch.log(ac.batch_std**2)"
   ]
  },
  {
   "cell_type": "code",
   "execution_count": 43,
   "metadata": {},
   "outputs": [
    {
     "data": {
      "text/plain": [
       "Parameter containing:\n",
       "tensor([[[[-0.8341]],\n",
       "\n",
       "         [[-0.0222]],\n",
       "\n",
       "         [[-0.5512]]],\n",
       "\n",
       "\n",
       "        [[[-0.1638]],\n",
       "\n",
       "         [[-0.9441]],\n",
       "\n",
       "         [[ 0.2860]]],\n",
       "\n",
       "\n",
       "        [[[-0.5268]],\n",
       "\n",
       "         [[ 0.3288]],\n",
       "\n",
       "         [[ 0.7838]]]], requires_grad=True)"
      ]
     },
     "execution_count": 43,
     "metadata": {},
     "output_type": "execute_result"
    }
   ],
   "source": [
    "torch.manual_seed(41)\n",
    "inv_conv = Invertibe1by1Convolution(3)\n",
    "\n",
    "inv_conv.weight"
   ]
  },
  {
   "cell_type": "code",
   "execution_count": 44,
   "metadata": {},
   "outputs": [
    {
     "data": {
      "text/plain": [
       "tensor(3.8147e-06, grad_fn=<MulBackward0>)"
      ]
     },
     "execution_count": 44,
     "metadata": {},
     "output_type": "execute_result"
    }
   ],
   "source": [
    "forwarded, log_det = inv_conv(tmp_input)\n",
    "log_det"
   ]
  },
  {
   "cell_type": "code",
   "execution_count": 45,
   "metadata": {},
   "outputs": [],
   "source": [
    "_, _, h, w = tmp_input.shape"
   ]
  },
  {
   "cell_type": "code",
   "execution_count": 46,
   "metadata": {},
   "outputs": [
    {
     "data": {
      "text/plain": [
       "tensor(3.8147e-06, grad_fn=<MulBackward0>)"
      ]
     },
     "execution_count": 46,
     "metadata": {},
     "output_type": "execute_result"
    }
   ],
   "source": [
    "h * w * torch.log(torch.abs(torch.linalg.det(inv_conv.weight.squeeze())))"
   ]
  },
  {
   "cell_type": "code",
   "execution_count": 47,
   "metadata": {},
   "outputs": [
    {
     "data": {
      "text/plain": [
       "tensor(3.3379e-06, grad_fn=<MulBackward0>)"
      ]
     },
     "execution_count": 47,
     "metadata": {},
     "output_type": "execute_result"
    }
   ],
   "source": [
    "h * w * torch.slogdet(inv_conv.weight.squeeze())[1]"
   ]
  },
  {
   "cell_type": "code",
   "execution_count": 49,
   "metadata": {},
   "outputs": [],
   "source": [
    "torch.manual_seed(41)\n",
    "tmp_input = torch.randn(5, 4, 4, 4)\n",
    "gAff = utils.GlowAffineCouplingLayer(input_shape=(4, 4, 4), filters=3)\n",
    "y, log_det = gAff(tmp_input)"
   ]
  },
  {
   "cell_type": "code",
   "execution_count": 50,
   "metadata": {},
   "outputs": [
    {
     "data": {
      "text/plain": [
       "tensor(2.8904e-07, grad_fn=<LinalgVectorNormBackward0>)"
      ]
     },
     "execution_count": 50,
     "metadata": {},
     "output_type": "execute_result"
    }
   ],
   "source": [
    "reversed = gAff.reverse(y)\n",
    "torch.linalg.norm(reversed - tmp_input)"
   ]
  },
  {
   "cell_type": "code",
   "execution_count": 51,
   "metadata": {},
   "outputs": [],
   "source": [
    "torch.manual_seed(41)\n",
    "tmp_input = torch.randn(5, 4, 4, 4)\n",
    "flow = utils.StepOfGlow(base_input_shape=tmp_input.shape[1:], num_filters=512)"
   ]
  },
  {
   "cell_type": "code",
   "execution_count": 52,
   "metadata": {},
   "outputs": [],
   "source": [
    "forwarded, log_det = flow(tmp_input)"
   ]
  },
  {
   "cell_type": "code",
   "execution_count": 53,
   "metadata": {},
   "outputs": [
    {
     "data": {
      "text/plain": [
       "tensor([-2.6153, -2.6153, -2.6153, -2.6153, -2.6153], grad_fn=<AddBackward0>)"
      ]
     },
     "execution_count": 53,
     "metadata": {},
     "output_type": "execute_result"
    }
   ],
   "source": [
    "log_det"
   ]
  },
  {
   "cell_type": "code",
   "execution_count": 54,
   "metadata": {},
   "outputs": [],
   "source": [
    "backwarded = flow.reverse(forwarded)"
   ]
  },
  {
   "cell_type": "code",
   "execution_count": 55,
   "metadata": {},
   "outputs": [
    {
     "data": {
      "text/plain": [
       "tensor(1.4738e-06, grad_fn=<LinalgVectorNormBackward0>)"
      ]
     },
     "execution_count": 55,
     "metadata": {},
     "output_type": "execute_result"
    }
   ],
   "source": [
    "torch.linalg.norm(backwarded - tmp_input)"
   ]
  },
  {
   "cell_type": "code",
   "execution_count": 133,
   "metadata": {},
   "outputs": [
    {
     "name": "stdout",
     "output_type": "stream",
     "text": [
      "[12, 12, 144, 27648, 512, 262144, 512, 12, 55296, 12]\n"
     ]
    },
    {
     "name": "stderr",
     "output_type": "stream",
     "text": [
      "/Users/amin/venvs/.tf_venv/lib/python3.9/site-packages/torch/nn/functional.py:1967: UserWarning: nn.functional.sigmoid is deprecated. Use torch.sigmoid instead.\n",
      "  warnings.warn(\"nn.functional.sigmoid is deprecated. Use torch.sigmoid instead.\")\n"
     ]
    },
    {
     "data": {
      "text/plain": [
       "tensor([[[[ 0.5460, -2.8599,  0.2483,  2.1484],\n",
       "          [-2.0468,  1.5575,  0.1021,  1.0958],\n",
       "          [-0.3667, -0.1379, -1.3916,  0.4775],\n",
       "          [-1.4393,  0.9823,  1.9102,  0.3162]],\n",
       "\n",
       "         [[ 0.4821,  0.5251,  0.1547, -0.0842],\n",
       "          [ 0.3652, -1.1456,  0.4099,  2.1670],\n",
       "          [ 1.9118,  0.8759,  2.0671,  0.5911],\n",
       "          [ 0.0773, -0.3874,  0.0448, -1.1593]],\n",
       "\n",
       "         [[ 0.8032,  0.2927,  1.4028,  1.9387],\n",
       "          [-0.8028, -0.0507, -0.9454, -1.1385],\n",
       "          [-0.4090,  0.0237, -1.5863, -1.4707],\n",
       "          [-0.2259,  0.3312,  0.5654, -1.9746]]]], grad_fn=<ViewBackward0>)"
      ]
     },
     "execution_count": 133,
     "metadata": {},
     "output_type": "execute_result"
    }
   ],
   "source": [
    "torch.manual_seed(42)\n",
    "tmp_input = torch.randn(5, 3, 4, 4)\n",
    "block = blocks.GlowBlock(K=1, num_channels=3, num_filters=512, is_final_block=True)\n",
    "print(list(param.numel()for param in block.parameters()))\n",
    "_ = block(tmp_input)\n",
    "\n",
    "torch.manual_seed(42)\n",
    "eps = torch.distributions.Normal(0, 1).sample(sample_shape=[1, 12, 2, 2])\n",
    "block.reverse(x, eps=eps)"
   ]
  },
  {
   "cell_type": "code",
   "execution_count": 129,
   "metadata": {},
   "outputs": [
    {
     "name": "stdout",
     "output_type": "stream",
     "text": [
      "[torch.Size([1, 12, 1, 1]), torch.Size([1, 12, 1, 1])]\n"
     ]
    },
    {
     "data": {
      "text/plain": [
       "(tensor([-68.0630, -61.9017, -59.3716, -64.7797, -66.3945],\n",
       "        grad_fn=<AddBackward0>),\n",
       " tensor([-1.7189, -1.7189, -1.7189, -1.7189, -1.7189], grad_fn=<AddBackward0>),\n",
       " [])"
      ]
     },
     "execution_count": 129,
     "metadata": {},
     "output_type": "execute_result"
    }
   ],
   "source": [
    "torch.manual_seed(42)\n",
    "tmp_input = torch.randn(5, 3, 4, 4)\n",
    "glow = models.Glow(K=1, L=1, base_input_shape=tmp_input.shape[1:])\n",
    "glow(tmp_input)"
   ]
  },
  {
   "cell_type": "code",
   "execution_count": 130,
   "metadata": {},
   "outputs": [
    {
     "name": "stdout",
     "output_type": "stream",
     "text": [
      "[12, 12, 144, 27648, 512, 262144, 512, 12, 55296, 12]\n"
     ]
    }
   ],
   "source": [
    "print(list(param.numel()for param in glow.parameters()))"
   ]
  },
  {
   "cell_type": "code",
   "execution_count": 131,
   "metadata": {},
   "outputs": [
    {
     "data": {
      "text/plain": [
       "Glow(\n",
       "  (blocks): ModuleList(\n",
       "    (0): GlowBlock(\n",
       "      (steps): ModuleList(\n",
       "        (0): StepOfGlow(\n",
       "          (act_norm): ActNorm()\n",
       "          (invertible_1by1_conv): Invertibe1by1Convolution()\n",
       "          (aff): GlowAffineCouplingLayer(\n",
       "            (relu): ReLU()\n",
       "            (first_layer): Conv2d(6, 512, kernel_size=(3, 3), stride=(1, 1), padding=same)\n",
       "            (second_layer): Conv2d(512, 512, kernel_size=(1, 1), stride=(1, 1), padding=same)\n",
       "            (third_layer): ZeroConv2d(\n",
       "              (conv): Conv2d(512, 12, kernel_size=(3, 3), stride=(1, 1))\n",
       "            )\n",
       "            (net): Sequential(\n",
       "              (0): Conv2d(6, 512, kernel_size=(3, 3), stride=(1, 1), padding=same)\n",
       "              (1): ReLU()\n",
       "              (2): Conv2d(512, 512, kernel_size=(1, 1), stride=(1, 1), padding=same)\n",
       "              (3): ReLU()\n",
       "              (4): ZeroConv2d(\n",
       "                (conv): Conv2d(512, 12, kernel_size=(3, 3), stride=(1, 1))\n",
       "              )\n",
       "            )\n",
       "          )\n",
       "        )\n",
       "      )\n",
       "    )\n",
       "  )\n",
       ")"
      ]
     },
     "execution_count": 131,
     "metadata": {},
     "output_type": "execute_result"
    }
   ],
   "source": [
    "glow"
   ]
  },
  {
   "cell_type": "code",
   "execution_count": null,
   "metadata": {},
   "outputs": [],
   "source": []
  }
 ],
 "metadata": {
  "kernelspec": {
   "display_name": "base",
   "language": "python",
   "name": "python3"
  },
  "language_info": {
   "codemirror_mode": {
    "name": "ipython",
    "version": 3
   },
   "file_extension": ".py",
   "mimetype": "text/x-python",
   "name": "python",
   "nbconvert_exporter": "python",
   "pygments_lexer": "ipython3",
   "version": "3.9.6"
  },
  "orig_nbformat": 4
 },
 "nbformat": 4,
 "nbformat_minor": 2
}
